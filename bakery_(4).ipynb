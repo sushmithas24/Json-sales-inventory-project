{
  "nbformat": 4,
  "nbformat_minor": 0,
  "metadata": {
    "colab": {
      "name": "bakery (4).ipynb",
      "provenance": [],
      "collapsed_sections": []
    },
    "kernelspec": {
      "name": "python3",
      "display_name": "Python 3"
    },
    "language_info": {
      "name": "python"
    }
  },
  "cells": [
    {
      "cell_type": "code",
      "metadata": {
        "id": "bWhk31DbUkcx"
      },
      "source": [
        "record= {101 : {\"Name\": \"Fivestar\", \"Price\": 10, \"Quantity\" : 100,\"Company\" : \"Cadbury\", \"Best Before\" : \"5 months\"},\n",
        "        102 : {\"Name\": \"Eclairs\",  \"Price\": 1, \"Quantity\" : 500, \"Company\" : \"Cadbury\", \"Best Before\" : \"5 months\"},\n",
        "        103: {\"Name\": \"Diary Milk\", \"Price\": 20, \"Quantity\" : 200, \"Company\" : \"Cadbury\", \"Best Before\" : \"5 months\"},\n",
        "        104: {\"Name\": \"Bounty\", \"Price\": 50, \"Quantity\" : 100,  \"Company\" : \"PNG\", \"Best Before\" : \"5 months\"},\n",
        "        105: {\"Name\": \"Kinder Joy\" , \"Price\": 30, \"Quantity\" : 25 , \"Company\" : \"Ferrero\", \"Best Before\" : \"5 months\"},\n",
        "        106: {\"Name\": \"Oreo\", \"Price\": 10, \"Quantity\" : 50, \"Company\" : \"ITC\",\"Best Before\" : \"5 months\"},\n",
        "        107: {\"Name\": \"Dark Fantasy\", \"Price\": 30, \"Quantity\" : 20, \"Company\" : \"ITC\",\"Best Before\" : \"5 months\"},\n",
        "        108: {\"Name\": \"Hide and Seek\" , \"Price\": 10, \"Quantity\" : 20, \"Company\" : \"ITC\",\"Best Before\" : \"5 months\"},\n",
        "        109: {\"Name\": \"Gooday\", \"Price\": 10, \"Quantity\" : 20, \"Company\" : \"ITC\",\"Best Before\" : \"5 months\"},\n",
        "        110: {\"Name\": \"Parle G\", \"Price\": 5, \"Quantity\" : 20, \"Company\" : \"ITC\",\"Best Before\" : \"5 months\"},\n",
        "        111 : {\"Name\": \"Red velvet\" , \"Price\": 40, \"Quantity\" : 1, \"Company\" : \"Pillsbury\",\"Best Before\" : \"5 months\"},\n",
        "        112 : {\"Name\": \"Lavacake\", \"Price\": 35, \"Quantity\" : 1, \"Company\" : \"Pillsbury\",\"Best Before\" : \"NA\"},\n",
        "        113: {\"Name\": \"Death by Chocolate\" , \"Price\": 45, \"Quantity\" : 1, \"Company\" : \"Pillsbury\", \"Best Before\" : \"NA\"},\n",
        "        114: {\"Name\": \"butterscotch\", \"Price\": 40, \"Quantity\" : 1, \"Company\" : \"Pillsbury\",\"Best Before\" : \"NA\"},\n",
        "        115: {\"Name\": \"chocolatecake\", \"Price\": 35, \"Quantity\" : 1, \"Company\" : \"Pillsbury\", \"Best Before\" : \"NA\"},\n",
        "        116: {\"Name\": \"Lays\", \"Price\": 10, \"Quantity\" : 20, \"Company\" : \"ITC\", \"Best Before\" : \"1 month\"},\n",
        "        117: {\"Name\": \"kurkure\", \"Price\": 10, \"Quantity\" : 20, \"Company\" : \"ITC\", \"Best Before\" : \"1 month\"},\n",
        "        118: {\"Name\": \"bingo\", \"Price\": 10, \"Quantity\" : 20, \"Company\" : \"ITC\", \"Best Before\" : \"1 month\"},\n",
        "        119: {\"Name\": \"moongdhal\"   , \"Price\": 10, \"Quantity\" : 20, \"Company\" : \"ITC\", \"Best Before\" : \"1 month\"},\n",
        "        120: {\"Name\": \"littlehearts\", \"Price\": 5, \"Quantity\" : 15, \"Company\" : \"ITC\", \"Best Before\" : \"1 month\"},\n",
        "        121 : {\"Name\": \"TooYum\" , \"Price\": 10, \"Quantity\" : 15, \"Company\" : \"ITC\", \"Best Before\" : \"1 month\"},\n",
        "        122 : {\"Name\": \"Samosa\", \"Price\": 10, \"Quantity\" : 10, \"Company\" : \"Pillsbury\", \"Best Before\" : \"NA\"},\n",
        "        123: {\"Name\": \"maggie\", \"Price\": 10, \"Quantity\" : 10, \"Company\" : \"Nestle\",  \"Best Before\" : \"1 month\"},\n",
        "        124: {\"Name\": \"eggpuff\", \"Price\": 15, \"Quantity\" : 10, \"Company\" : \"Pillsbury\", \"Best Before\" : \"NA\"},\n",
        "        125: {\"Name\": \"vegpuff\", \"Price\": 12, \"Quantity\" : 10, \"Company\" : \"Pillsbury\", \"Best Before\" : \"NA\"},\n",
        "        126: {\"Name\": \"bread\", \"Price\": 25, \"Quantity\" : 5, \"Company\" : \"Pillsbury\", \"Best Before\" : \"NA\"},\n",
        "        127: {\"Name\": \"sandwich\", \"Price\": 35, \"Quantity\" : 15, \"Company\" : \"Pillsbury\", \"Best Before\" : \"NA\"},\n",
        "        128: {\"Name\": \"icecream\", \"Price\": 50, \"Quantity\" : 50, \"Company\" : \"Amul\", \"Best Before\" : \"NA\"},\n",
        "        129: {\"Name\": \"juice\", \"Price\": 30, \"Quantity\" : 10, \"Company\" : \"Frootie\", \"Best Before\" : \"NA\"},\n",
        "        130: {\"Name\": \"Buns\", \"Price\": 20, \"Quantity\" : 10, \"Company\" : \"Pillsbury\", \"Best Before\" : \"NA\"}}\n",
        "    "
      ],
      "execution_count": 2,
      "outputs": []
    },
    {
      "cell_type": "code",
      "metadata": {
        "colab": {
          "base_uri": "https://localhost:8080/",
          "height": 137
        },
        "id": "07IW5Mpwbyzp",
        "outputId": "8c3d20cd-9d57-4c91-8c8a-d7279858f742"
      },
      "source": [
        "import json\n",
        "\n",
        "js = json.dumps(record)\n",
        "\n",
        "js"
      ],
      "execution_count": 3,
      "outputs": [
        {
          "output_type": "execute_result",
          "data": {
            "application/vnd.google.colaboratory.intrinsic+json": {
              "type": "string"
            },
            "text/plain": [
              "'{\"101\": {\"Name\": \"Fivestar\", \"Price\": 10, \"Quantity\": 100, \"Company\": \"Cadbury\", \"Best Before\": \"5 months\"}, \"102\": {\"Name\": \"Eclairs\", \"Price\": 1, \"Quantity\": 500, \"Company\": \"Cadbury\", \"Best Before\": \"5 months\"}, \"103\": {\"Name\": \"Diary Milk\", \"Price\": 20, \"Quantity\": 200, \"Company\": \"Cadbury\", \"Best Before\": \"5 months\"}, \"104\": {\"Name\": \"Bounty\", \"Price\": 50, \"Quantity\": 100, \"Company\": \"PNG\", \"Best Before\": \"5 months\"}, \"105\": {\"Name\": \"Kinder Joy\", \"Price\": 30, \"Quantity\": 25, \"Company\": \"Ferrero\", \"Best Before\": \"5 months\"}, \"106\": {\"Name\": \"Oreo\", \"Price\": 10, \"Quantity\": 50, \"Company\": \"ITC\", \"Best Before\": \"5 months\"}, \"107\": {\"Name\": \"Dark Fantasy\", \"Price\": 30, \"Quantity\": 20, \"Company\": \"ITC\", \"Best Before\": \"5 months\"}, \"108\": {\"Name\": \"Hide and Seek\", \"Price\": 10, \"Quantity\": 20, \"Company\": \"ITC\", \"Best Before\": \"5 months\"}, \"109\": {\"Name\": \"Gooday\", \"Price\": 10, \"Quantity\": 20, \"Company\": \"ITC\", \"Best Before\": \"5 months\"}, \"110\": {\"Name\": \"Parle G\", \"Price\": 5, \"Quantity\": 20, \"Company\": \"ITC\", \"Best Before\": \"5 months\"}, \"111\": {\"Name\": \"Red velvet\", \"Price\": 40, \"Quantity\": 1, \"Company\": \"Pillsbury\", \"Best Before\": \"5 months\"}, \"112\": {\"Name\": \"Lavacake\", \"Price\": 35, \"Quantity\": 1, \"Company\": \"Pillsbury\", \"Best Before\": \"NA\"}, \"113\": {\"Name\": \"Death by Chocolate\", \"Price\": 45, \"Quantity\": 1, \"Company\": \"Pillsbury\", \"Best Before\": \"NA\"}, \"114\": {\"Name\": \"butterscotch\", \"Price\": 40, \"Quantity\": 1, \"Company\": \"Pillsbury\", \"Best Before\": \"NA\"}, \"115\": {\"Name\": \"chocolatecake\", \"Price\": 35, \"Quantity\": 1, \"Company\": \"Pillsbury\", \"Best Before\": \"NA\"}, \"116\": {\"Name\": \"Lays\", \"Price\": 10, \"Quantity\": 20, \"Company\": \"ITC\", \"Best Before\": \"1 month\"}, \"117\": {\"Name\": \"kurkure\", \"Price\": 10, \"Quantity\": 20, \"Company\": \"ITC\", \"Best Before\": \"1 month\"}, \"118\": {\"Name\": \"bingo\", \"Price\": 10, \"Quantity\": 20, \"Company\": \"ITC\", \"Best Before\": \"1 month\"}, \"119\": {\"Name\": \"moongdhal\", \"Price\": 10, \"Quantity\": 20, \"Company\": \"ITC\", \"Best Before\": \"1 month\"}, \"120\": {\"Name\": \"littlehearts\", \"Price\": 5, \"Quantity\": 15, \"Company\": \"ITC\", \"Best Before\": \"1 month\"}, \"121\": {\"Name\": \"TooYum\", \"Price\": 10, \"Quantity\": 15, \"Company\": \"ITC\", \"Best Before\": \"1 month\"}, \"122\": {\"Name\": \"Samosa\", \"Price\": 10, \"Quantity\": 10, \"Company\": \"Pillsbury\", \"Best Before\": \"NA\"}, \"123\": {\"Name\": \"maggie\", \"Price\": 10, \"Quantity\": 10, \"Company\": \"Nestle\", \"Best Before\": \"1 month\"}, \"124\": {\"Name\": \"eggpuff\", \"Price\": 15, \"Quantity\": 10, \"Company\": \"Pillsbury\", \"Best Before\": \"NA\"}, \"125\": {\"Name\": \"vegpuff\", \"Price\": 12, \"Quantity\": 10, \"Company\": \"Pillsbury\", \"Best Before\": \"NA\"}, \"126\": {\"Name\": \"bread\", \"Price\": 25, \"Quantity\": 5, \"Company\": \"Pillsbury\", \"Best Before\": \"NA\"}, \"127\": {\"Name\": \"sandwich\", \"Price\": 35, \"Quantity\": 15, \"Company\": \"Pillsbury\", \"Best Before\": \"NA\"}, \"128\": {\"Name\": \"icecream\", \"Price\": 50, \"Quantity\": 50, \"Company\": \"Amul\", \"Best Before\": \"NA\"}, \"129\": {\"Name\": \"juice\", \"Price\": 30, \"Quantity\": 10, \"Company\": \"Frootie\", \"Best Before\": \"NA\"}, \"130\": {\"Name\": \"Buns\", \"Price\": 20, \"Quantity\": 10, \"Company\": \"Pillsbury\", \"Best Before\": \"NA\"}}'"
            ]
          },
          "metadata": {},
          "execution_count": 3
        }
      ]
    },
    {
      "cell_type": "code",
      "metadata": {
        "id": "T7q__LYob3xS"
      },
      "source": [
        "fd = open(\"record.json\",'w')\n",
        "\n",
        "fd.write(js)\n",
        "\n",
        "fd.close()"
      ],
      "execution_count": 4,
      "outputs": []
    },
    {
      "cell_type": "code",
      "metadata": {
        "colab": {
          "base_uri": "https://localhost:8080/"
        },
        "id": "0t7-4UctdsXB",
        "outputId": "2aabaaae-13a7-4290-fd93-ab3e6a1b1b4d"
      },
      "source": [
        "while True:\n",
        "  s=int(input(\"enter the product id=\"))\n",
        "\n",
        "  q=int(input(\"enter quantity=\"))\n",
        "\n",
        "  if s in record.keys():\n",
        "    print(\"total amount=\",q*record[s][\"Price\"])\n",
        "\n",
        "    record[s][\"Quantity\"]-=q\n",
        "\n",
        "  else:\n",
        "    print(\"Item not found\")"
      ],
      "execution_count": null,
      "outputs": [
        {
          "output_type": "stream",
          "name": "stdout",
          "text": [
            "enter the product id=105\n",
            "enter quantity=40\n",
            "total amount= 1200\n",
            "enter the product id=100\n",
            "enter quantity=30\n",
            "Item not found\n",
            "enter the product id=125\n",
            "enter quantity=315\n",
            "total amount= 3780\n",
            "enter the product id=113\n",
            "enter quantity=99\n",
            "total amount= 4455\n"
          ]
        }
      ]
    },
    {
      "cell_type": "code",
      "metadata": {
        "id": "kFkz-F78eO8P"
      },
      "source": [
        "import json\n",
        "\n",
        "js = json.dumps(record)\n",
        "\n",
        "js\n",
        "\n",
        "fd = open(\"sales.json\",'w')\n",
        "\n",
        "fd.write(js)\n",
        "\n",
        "fd.close()"
      ],
      "execution_count": null,
      "outputs": []
    },
    {
      "cell_type": "code",
      "metadata": {
        "id": "vMaFNV7Xecam"
      },
      "source": [
        "fd = open(\"record.txt\",'r')\n",
        "\n",
        "txt = fd.read()\n",
        "\n",
        "fd.close()"
      ],
      "execution_count": null,
      "outputs": []
    },
    {
      "cell_type": "code",
      "metadata": {
        "colab": {
          "base_uri": "https://localhost:8080/"
        },
        "id": "WJI5K-6ifT6g",
        "outputId": "2cf3f4cb-24d8-4e07-dc97-379b4c3f1837"
      },
      "source": [
        "record = json.loads(txt)\n",
        "\n",
        "record"
      ],
      "execution_count": null,
      "outputs": [
        {
          "output_type": "execute_result",
          "data": {
            "text/plain": [
              "{'101': {'Best Before': '5 months',\n",
              "  'Company': 'Cadbury',\n",
              "  'Name': 'Fivestar',\n",
              "  'Price': 10,\n",
              "  'Quantity': 100},\n",
              " '102': {'Best Before': '5 months',\n",
              "  'Company': 'Cadbury',\n",
              "  'Name': 'Eclairs',\n",
              "  'Price': 1,\n",
              "  'Quantity': 300},\n",
              " '103': {'Best Before': '5 months',\n",
              "  'Company': 'Cadbury',\n",
              "  'Name': 'Diary Milk',\n",
              "  'Price': 20,\n",
              "  'Quantity': 200},\n",
              " '104': {'Best Before': '5 months',\n",
              "  'Company': 'PNG',\n",
              "  'Name': 'Bounty',\n",
              "  'Price': 50,\n",
              "  'Quantity': 100},\n",
              " '105': {'Best Before': '5 months',\n",
              "  'Company': 'Ferrero',\n",
              "  'Name': 'Kinder Joy',\n",
              "  'Price': 30,\n",
              "  'Quantity': -75},\n",
              " '106': {'Best Before': '5 months',\n",
              "  'Company': 'ITC',\n",
              "  'Name': 'Oreo',\n",
              "  'Price': 10,\n",
              "  'Quantity': 50},\n",
              " '107': {'Best Before': '5 months',\n",
              "  'Company': 'ITC',\n",
              "  'Name': 'Dark Fantasy',\n",
              "  'Price': 30,\n",
              "  'Quantity': 20},\n",
              " '108': {'Best Before': '5 months',\n",
              "  'Company': 'ITC',\n",
              "  'Name': 'Hide and Seek',\n",
              "  'Price': 10,\n",
              "  'Quantity': 20},\n",
              " '109': {'Best Before': '5 months',\n",
              "  'Company': 'ITC',\n",
              "  'Name': 'Gooday',\n",
              "  'Price': 10,\n",
              "  'Quantity': 20},\n",
              " '110': {'Best Before': '5 months',\n",
              "  'Company': 'ITC',\n",
              "  'Name': 'Parle G',\n",
              "  'Price': 5,\n",
              "  'Quantity': 20},\n",
              " '111': {'Best Before': '5 months',\n",
              "  'Company': 'Pillsbury',\n",
              "  'Name': 'Red velvet',\n",
              "  'Price': 40,\n",
              "  'Quantity': 1},\n",
              " '112': {'Best Before': 'NA',\n",
              "  'Company': 'Pillsbury',\n",
              "  'Name': 'Lavacake',\n",
              "  'Price': 35,\n",
              "  'Quantity': 1},\n",
              " '113': {'Best Before': 'NA',\n",
              "  'Company': 'Pillsbury',\n",
              "  'Name': 'Death by Chocolate',\n",
              "  'Price': 45,\n",
              "  'Quantity': 1},\n",
              " '114': {'Best Before': 'NA',\n",
              "  'Company': 'Pillsbury',\n",
              "  'Name': 'butterscotch',\n",
              "  'Price': 40,\n",
              "  'Quantity': 1},\n",
              " '115': {'Best Before': 'NA',\n",
              "  'Company': 'Pillsbury',\n",
              "  'Name': 'chocolatecake',\n",
              "  'Price': 35,\n",
              "  'Quantity': 1},\n",
              " '116': {'Best Before': '1 month',\n",
              "  'Company': 'ITC',\n",
              "  'Name': 'Lays',\n",
              "  'Price': 10,\n",
              "  'Quantity': 20},\n",
              " '117': {'Best Before': '1 month',\n",
              "  'Company': 'ITC',\n",
              "  'Name': 'kurkure',\n",
              "  'Price': 10,\n",
              "  'Quantity': 20},\n",
              " '118': {'Best Before': '1 month',\n",
              "  'Company': 'ITC',\n",
              "  'Name': 'bingo',\n",
              "  'Price': 10,\n",
              "  'Quantity': 20},\n",
              " '119': {'Best Before': '1 month',\n",
              "  'Company': 'ITC',\n",
              "  'Name': 'moongdhal',\n",
              "  'Price': 10,\n",
              "  'Quantity': 20},\n",
              " '120': {'Best Before': '1 month',\n",
              "  'Company': 'ITC',\n",
              "  'Name': 'littlehearts',\n",
              "  'Price': 5,\n",
              "  'Quantity': 15},\n",
              " '121': {'Best Before': '1 month',\n",
              "  'Company': 'ITC',\n",
              "  'Name': 'TooYum',\n",
              "  'Price': 10,\n",
              "  'Quantity': 15},\n",
              " '122': {'Best Before': 'NA',\n",
              "  'Company': 'Pillsbury',\n",
              "  'Name': 'Samosa',\n",
              "  'Price': 10,\n",
              "  'Quantity': 10},\n",
              " '123': {'Best Before': '1 month',\n",
              "  'Company': 'Nestle',\n",
              "  'Name': 'maggie',\n",
              "  'Price': 10,\n",
              "  'Quantity': 7.8},\n",
              " '124': {'Best Before': 'NA',\n",
              "  'Company': 'Pillsbury',\n",
              "  'Name': 'eggpuff',\n",
              "  'Price': 15,\n",
              "  'Quantity': 7.8},\n",
              " '125': {'Best Before': 'NA',\n",
              "  'Company': 'Pillsbury',\n",
              "  'Name': 'vegpuff',\n",
              "  'Price': 12,\n",
              "  'Quantity': -12.2},\n",
              " '126': {'Best Before': 'NA',\n",
              "  'Company': 'Pillsbury',\n",
              "  'Name': 'bread',\n",
              "  'Price': 25,\n",
              "  'Quantity': 7.8},\n",
              " '127': {'Best Before': 'NA',\n",
              "  'Company': 'Pillsbury',\n",
              "  'Name': 'sandwich',\n",
              "  'Price': 35,\n",
              "  'Quantity': 7.8},\n",
              " '128': {'Best Before': 'NA',\n",
              "  'Company': 'Amul',\n",
              "  'Name': 'icecream',\n",
              "  'Price': 50,\n",
              "  'Quantity': 7.8},\n",
              " '129': {'Best Before': 'NA',\n",
              "  'Company': 'Frootie',\n",
              "  'Name': 'juice',\n",
              "  'Price': 30,\n",
              "  'Quantity': 7.8},\n",
              " '130': {'Best Before': 'NA',\n",
              "  'Company': 'Pillsbury',\n",
              "  'Name': 'Buns',\n",
              "  'Price': 20,\n",
              "  'Quantity': 7.8}}"
            ]
          },
          "metadata": {},
          "execution_count": 23
        }
      ]
    }
  ]
}